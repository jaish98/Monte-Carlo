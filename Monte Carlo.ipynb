{
 "cells": [
  {
   "cell_type": "code",
   "execution_count": 1,
   "metadata": {},
   "outputs": [],
   "source": [
    "import numpy as np"
   ]
  },
  {
   "cell_type": "code",
   "execution_count": 2,
   "metadata": {},
   "outputs": [],
   "source": [
    "total = 1000000\n",
    "hit = 0\n",
    "n_dart = 0"
   ]
  },
  {
   "cell_type": "code",
   "execution_count": 3,
   "metadata": {},
   "outputs": [
    {
     "name": "stdout",
     "output_type": "stream",
     "text": [
      "Nilai estimasi pi : 3.1401\n"
     ]
    }
   ],
   "source": [
    "for i in range(total):\n",
    "  n_dart += 1\n",
    "  x_rand = np.random.uniform(0,1)\n",
    "  y_rand = np.random.uniform(0,1)\n",
    "  if x_rand**2 + y_rand**2 <= 1:\n",
    "    hit += 1\n",
    "\n",
    "pi = (hit/total)*4\n",
    "\n",
    "print(\"Nilai estimasi pi :\", pi)"
   ]
  },
  {
   "cell_type": "code",
   "execution_count": null,
   "metadata": {},
   "outputs": [],
   "source": []
  }
 ],
 "metadata": {
  "kernelspec": {
   "display_name": "Python 3.8.0 64-bit",
   "language": "python",
   "name": "python38064bit4b5e80ee7595402d964af5ace9ac5e47"
  },
  "language_info": {
   "codemirror_mode": {
    "name": "ipython",
    "version": 3
   },
   "file_extension": ".py",
   "mimetype": "text/x-python",
   "name": "python",
   "nbconvert_exporter": "python",
   "pygments_lexer": "ipython3",
   "version": "3.8.0"
  }
 },
 "nbformat": 4,
 "nbformat_minor": 2
}
